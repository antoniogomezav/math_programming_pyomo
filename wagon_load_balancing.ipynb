{
 "cells": [
  {
   "cell_type": "markdown",
   "id": "ce2255b1",
   "metadata": {},
   "source": [
    "# Wagon load balancing"
   ]
  },
  {
   "cell_type": "markdown",
   "id": "2b4b777a",
   "metadata": {},
   "source": [
    "Three railway wagons with a carrying capacity of 100 quintals (1 quintal = 100 kg) have been reserved to transport sixteen boxes. The weight of the boxes in quintals is given. How shall the boxes be assigned to the wagons in order to keep to the limits on the maximum carrying capacity and to minimize the heaviest wagon load?.\n",
    "\n",
    "In this problem we wish to minimize the maximum load of the wagons. Such an objective is sometimes referred to as $\\textbf{minimax}$ objective. These kind of problems, like $\\textbf{maximin}$ problems are also called $\\textbf{bottleneck problems}$. The procedure to represent a bottleneck criterion in a linear model is:\n",
    "\n",
    "- We define a non-negative variable, $W$ in this case, to represent the maximum weight over all the wagon loads.\n",
    "- Constraints are established to set $W$ as the upper bound on every wagon load.\n",
    "- The objective function consists of minimizing $W$.\n",
    "\n",
    "### Mathematical Programming Model\n",
    "#### Sets:\n",
    "- $B$: Boxes to load.\n",
    "- $N$: Wagons.\n",
    "\n",
    "#### Inputs:\n",
    "- $w_{b}$: Weight of box $b$.\n",
    "\n",
    "#### Decision Variables:\n",
    "- $x_{bn}$: 1 if box $b$ is assigned to wagon $n$, 0 otherwise.\n",
    "- $W$: Maximum weight over all the wagon loads.\n",
    "\n",
    "#### Objective Function: Minimize the weight of the heaviest wagon load.\n",
    "$$\\text{min} \\quad W$$\n",
    "\n",
    "#### Constraints:\n",
    "1. All boxes must be assigned.\n",
    "$$\\sum_{n \\in N} x_{bn} = 1 \\qquad \\forall b \\in B$$\n",
    "\n",
    "2. The total weight of a wagon must be less than or equal to the maximum weight over all the wagon loads.\n",
    "$$\\sum_{b \\in B} x_{bn} w_{b} \\leq W \\qquad \\forall n \\in N$$\n",
    "\n",
    "3. Box allocation is binary.\n",
    "$$x_{bn} \\in \\{0,1\\} \\qquad \\forall b \\in B, n \\in N$$\n",
    "\n",
    "4. Maximum weight is non-negative.\n",
    "$$W \\geq 0$$"
   ]
  },
  {
   "cell_type": "code",
   "execution_count": 1,
   "id": "190a311a",
   "metadata": {
    "ExecuteTime": {
     "end_time": "2024-02-02T14:09:28.003950Z",
     "start_time": "2024-02-02T14:09:27.348608Z"
    }
   },
   "outputs": [],
   "source": [
    "import pyomo.environ as pyo\n",
    "import pandas as pd\n",
    "import numpy as np"
   ]
  },
  {
   "cell_type": "code",
   "execution_count": 4,
   "id": "273a7082",
   "metadata": {
    "ExecuteTime": {
     "end_time": "2024-02-02T14:31:44.507412Z",
     "start_time": "2024-02-02T14:31:44.488980Z"
    }
   },
   "outputs": [
    {
     "data": {
      "text/plain": [
       "{'Boxes':     Box  Weight\n",
       " 0     1      34\n",
       " 1     2       6\n",
       " 2     3       8\n",
       " 3     4      17\n",
       " 4     5      16\n",
       " 5     6       5\n",
       " 6     7      13\n",
       " 7     8      21\n",
       " 8     9      25\n",
       " 9    10      31\n",
       " 10   11      14\n",
       " 11   12      13\n",
       " 12   13      33\n",
       " 13   14       9\n",
       " 14   15      25\n",
       " 15   16      25,\n",
       " 'Wagons':    Wagon  Capacity\n",
       " 0      1       100\n",
       " 1      2       100\n",
       " 2      3       100}"
      ]
     },
     "execution_count": 4,
     "metadata": {},
     "output_type": "execute_result"
    }
   ],
   "source": [
    "pd.read_excel(\"./data/wagon_load_balancing.xlsx\", sheet_name=None)"
   ]
  },
  {
   "cell_type": "code",
   "execution_count": 5,
   "id": "069eaeda",
   "metadata": {
    "ExecuteTime": {
     "end_time": "2024-02-02T14:31:55.634310Z",
     "start_time": "2024-02-02T14:31:55.612262Z"
    }
   },
   "outputs": [
    {
     "data": {
      "text/html": [
       "<div>\n",
       "<style scoped>\n",
       "    .dataframe tbody tr th:only-of-type {\n",
       "        vertical-align: middle;\n",
       "    }\n",
       "\n",
       "    .dataframe tbody tr th {\n",
       "        vertical-align: top;\n",
       "    }\n",
       "\n",
       "    .dataframe thead th {\n",
       "        text-align: right;\n",
       "    }\n",
       "</style>\n",
       "<table border=\"1\" class=\"dataframe\">\n",
       "  <thead>\n",
       "    <tr style=\"text-align: right;\">\n",
       "      <th></th>\n",
       "      <th>Weight</th>\n",
       "    </tr>\n",
       "    <tr>\n",
       "      <th>Box</th>\n",
       "      <th></th>\n",
       "    </tr>\n",
       "  </thead>\n",
       "  <tbody>\n",
       "    <tr>\n",
       "      <th>1</th>\n",
       "      <td>34</td>\n",
       "    </tr>\n",
       "    <tr>\n",
       "      <th>2</th>\n",
       "      <td>6</td>\n",
       "    </tr>\n",
       "    <tr>\n",
       "      <th>3</th>\n",
       "      <td>8</td>\n",
       "    </tr>\n",
       "    <tr>\n",
       "      <th>4</th>\n",
       "      <td>17</td>\n",
       "    </tr>\n",
       "    <tr>\n",
       "      <th>5</th>\n",
       "      <td>16</td>\n",
       "    </tr>\n",
       "    <tr>\n",
       "      <th>6</th>\n",
       "      <td>5</td>\n",
       "    </tr>\n",
       "    <tr>\n",
       "      <th>7</th>\n",
       "      <td>13</td>\n",
       "    </tr>\n",
       "    <tr>\n",
       "      <th>8</th>\n",
       "      <td>21</td>\n",
       "    </tr>\n",
       "    <tr>\n",
       "      <th>9</th>\n",
       "      <td>25</td>\n",
       "    </tr>\n",
       "    <tr>\n",
       "      <th>10</th>\n",
       "      <td>31</td>\n",
       "    </tr>\n",
       "    <tr>\n",
       "      <th>11</th>\n",
       "      <td>14</td>\n",
       "    </tr>\n",
       "    <tr>\n",
       "      <th>12</th>\n",
       "      <td>13</td>\n",
       "    </tr>\n",
       "    <tr>\n",
       "      <th>13</th>\n",
       "      <td>33</td>\n",
       "    </tr>\n",
       "    <tr>\n",
       "      <th>14</th>\n",
       "      <td>9</td>\n",
       "    </tr>\n",
       "    <tr>\n",
       "      <th>15</th>\n",
       "      <td>25</td>\n",
       "    </tr>\n",
       "    <tr>\n",
       "      <th>16</th>\n",
       "      <td>25</td>\n",
       "    </tr>\n",
       "  </tbody>\n",
       "</table>\n",
       "</div>"
      ],
      "text/plain": [
       "     Weight\n",
       "Box        \n",
       "1        34\n",
       "2         6\n",
       "3         8\n",
       "4        17\n",
       "5        16\n",
       "6         5\n",
       "7        13\n",
       "8        21\n",
       "9        25\n",
       "10       31\n",
       "11       14\n",
       "12       13\n",
       "13       33\n",
       "14        9\n",
       "15       25\n",
       "16       25"
      ]
     },
     "execution_count": 5,
     "metadata": {},
     "output_type": "execute_result"
    }
   ],
   "source": [
    "boxes = pd.read_excel(\"./data/4_wagon_load_balancing.xlsx\", sheet_name=\"Boxes\", index_col=0)\n",
    "boxes"
   ]
  },
  {
   "cell_type": "code",
   "execution_count": 7,
   "id": "3942a92b",
   "metadata": {
    "ExecuteTime": {
     "end_time": "2024-02-02T14:32:27.107276Z",
     "start_time": "2024-02-02T14:32:27.094753Z"
    }
   },
   "outputs": [
    {
     "data": {
      "text/html": [
       "<div>\n",
       "<style scoped>\n",
       "    .dataframe tbody tr th:only-of-type {\n",
       "        vertical-align: middle;\n",
       "    }\n",
       "\n",
       "    .dataframe tbody tr th {\n",
       "        vertical-align: top;\n",
       "    }\n",
       "\n",
       "    .dataframe thead th {\n",
       "        text-align: right;\n",
       "    }\n",
       "</style>\n",
       "<table border=\"1\" class=\"dataframe\">\n",
       "  <thead>\n",
       "    <tr style=\"text-align: right;\">\n",
       "      <th></th>\n",
       "      <th>Capacity</th>\n",
       "    </tr>\n",
       "    <tr>\n",
       "      <th>Wagon</th>\n",
       "      <th></th>\n",
       "    </tr>\n",
       "  </thead>\n",
       "  <tbody>\n",
       "    <tr>\n",
       "      <th>1</th>\n",
       "      <td>100</td>\n",
       "    </tr>\n",
       "    <tr>\n",
       "      <th>2</th>\n",
       "      <td>100</td>\n",
       "    </tr>\n",
       "    <tr>\n",
       "      <th>3</th>\n",
       "      <td>100</td>\n",
       "    </tr>\n",
       "  </tbody>\n",
       "</table>\n",
       "</div>"
      ],
      "text/plain": [
       "       Capacity\n",
       "Wagon          \n",
       "1           100\n",
       "2           100\n",
       "3           100"
      ]
     },
     "execution_count": 7,
     "metadata": {},
     "output_type": "execute_result"
    }
   ],
   "source": [
    "wagons = pd.read_excel(\"./data/4_wagon_load_balancing.xlsx\", sheet_name=\"Wagons\", index_col=0)\n",
    "wagons"
   ]
  },
  {
   "cell_type": "code",
   "execution_count": 8,
   "id": "5892dfb5",
   "metadata": {
    "ExecuteTime": {
     "end_time": "2024-02-02T14:33:07.807230Z",
     "start_time": "2024-02-02T14:33:07.803230Z"
    }
   },
   "outputs": [],
   "source": [
    "B = boxes.index\n",
    "N = wagons.index\n",
    "wb = boxes[\"Weight\"]"
   ]
  },
  {
   "cell_type": "code",
   "execution_count": 14,
   "id": "466345fe",
   "metadata": {
    "ExecuteTime": {
     "end_time": "2024-02-02T15:00:02.711168Z",
     "start_time": "2024-02-02T14:59:55.399778Z"
    }
   },
   "outputs": [
    {
     "data": {
      "text/plain": [
       "{'Problem': [{'Name': 'unknown', 'Lower bound': 99.0, 'Upper bound': 99.0, 'Number of objectives': 1, 'Number of constraints': 19, 'Number of variables': 49, 'Number of nonzeros': 99, 'Sense': 'minimize'}], 'Solver': [{'Status': 'ok', 'Termination condition': 'optimal', 'Statistics': {'Branch and bound': {'Number of bounded subproblems': '136057', 'Number of created subproblems': '136057'}}, 'Error rc': 0, 'Time': 10.427249193191528}], 'Solution': [OrderedDict({'number of solutions': 0, 'number of solutions displayed': 0})]}"
      ]
     },
     "execution_count": 14,
     "metadata": {},
     "output_type": "execute_result"
    }
   ],
   "source": [
    "model = pyo.ConcreteModel(\"Wagon load balancing\")\n",
    "\n",
    "model.x = pyo.Var(B, N, domain=pyo.Binary, doc=\"1 if box b is assigned to wagon n, 0 otherwise\")\n",
    "model.W = pyo.Var(domain=pyo.NonNegativeReals, doc=\"Weight of the heaviest wagon load\")\n",
    "\n",
    "model.objective = pyo.Objective(expr=model.W, sense=pyo.minimize, doc=\"Minimize the maximum weight of the heaviest wagon load\")\n",
    "\n",
    "model.constraint1 = pyo.ConstraintList(doc=\"All boxes must be allocated\")\n",
    "for b in B:\n",
    "    model.constraint1.add(expr=sum(model.x[b,n] for n in N) == 1)\n",
    "\n",
    "model.constraint2 = pyo.ConstraintList(doc=\"The total weight of a wagon must be less than or equal to the maximum weight over all the wagon loads\")\n",
    "for n in N:\n",
    "    model.constraint2.add(expr=sum(wb[b]*model.x[b,n] for b in B) <= model.W)\n",
    "\n",
    "solver = pyo.SolverFactory(\"glpk\")\n",
    "results = solver.solve(model)\n",
    "results"
   ]
  },
  {
   "cell_type": "code",
   "execution_count": 20,
   "id": "39e90510",
   "metadata": {},
   "outputs": [
    {
     "name": "stdout",
     "output_type": "stream",
     "text": [
      "Box: 1 is assigend to wagon: 1\n",
      "Box: 2 is assigend to wagon: 1\n",
      "Box: 13 is assigend to wagon: 1\n",
      "Box: 15 is assigend to wagon: 1\n",
      "Box: 5 is assigend to wagon: 2\n",
      "Box: 6 is assigend to wagon: 2\n",
      "Box: 7 is assigend to wagon: 2\n",
      "Box: 9 is assigend to wagon: 2\n",
      "Box: 10 is assigend to wagon: 2\n",
      "Box: 14 is assigend to wagon: 2\n",
      "Box: 3 is assigend to wagon: 3\n",
      "Box: 4 is assigend to wagon: 3\n",
      "Box: 8 is assigend to wagon: 3\n",
      "Box: 11 is assigend to wagon: 3\n",
      "Box: 12 is assigend to wagon: 3\n",
      "Box: 16 is assigend to wagon: 3\n"
     ]
    }
   ],
   "source": [
    "for n in N:\n",
    "    for b in B:\n",
    "        if pyo.value(model.x[b,n]) != 0:\n",
    "            print(f\"Box: {b} is assigend to wagon: {n}\")"
   ]
  },
  {
   "cell_type": "code",
   "execution_count": 23,
   "id": "cf5a9316",
   "metadata": {},
   "outputs": [
    {
     "name": "stdout",
     "output_type": "stream",
     "text": [
      "The minimum maximum weight of the heaviest wagon load is 99.0\n"
     ]
    }
   ],
   "source": [
    "print(f\"The minimum maximum weight of the heaviest wagon load is {pyo.value(model.objective)}\")"
   ]
  },
  {
   "cell_type": "code",
   "execution_count": null,
   "id": "fff40781",
   "metadata": {},
   "outputs": [],
   "source": []
  }
 ],
 "metadata": {
  "hide_input": false,
  "kernelspec": {
   "display_name": "base",
   "language": "python",
   "name": "python3"
  },
  "language_info": {
   "codemirror_mode": {
    "name": "ipython",
    "version": 3
   },
   "file_extension": ".py",
   "mimetype": "text/x-python",
   "name": "python",
   "nbconvert_exporter": "python",
   "pygments_lexer": "ipython3",
   "version": "3.12.2"
  },
  "toc": {
   "base_numbering": 1,
   "nav_menu": {},
   "number_sections": true,
   "sideBar": true,
   "skip_h1_title": false,
   "title_cell": "Table of Contents",
   "title_sidebar": "Contents",
   "toc_cell": false,
   "toc_position": {},
   "toc_section_display": true,
   "toc_window_display": false
  },
  "varInspector": {
   "cols": {
    "lenName": 16,
    "lenType": 16,
    "lenVar": 40
   },
   "kernels_config": {
    "python": {
     "delete_cmd_postfix": "",
     "delete_cmd_prefix": "del ",
     "library": "var_list.py",
     "varRefreshCmd": "print(var_dic_list())"
    },
    "r": {
     "delete_cmd_postfix": ") ",
     "delete_cmd_prefix": "rm(",
     "library": "var_list.r",
     "varRefreshCmd": "cat(var_dic_list()) "
    }
   },
   "types_to_exclude": [
    "module",
    "function",
    "builtin_function_or_method",
    "instance",
    "_Feature"
   ],
   "window_display": false
  }
 },
 "nbformat": 4,
 "nbformat_minor": 5
}
