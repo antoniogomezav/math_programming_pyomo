{
 "cells": [
  {
   "cell_type": "markdown",
   "id": "db110356",
   "metadata": {},
   "source": [
    "# Heating oil delivery"
   ]
  },
  {
   "cell_type": "markdown",
   "id": "fece353f",
   "metadata": {},
   "source": [
    "A transporter has to deliver heating oil from the refinery at California to a certain number of clients in the US. His clients are located at California, Washington, Nueva York, Colorado, Texas, Tennessee, Dakota. The demands in liters for the different sites and distance between clients and the refinery are known. The transport company uses tankers with a capacity of 39000 liters for the deliveries. Determine the tours for delivering to all clients that minimize the total number of kilometers driven.\n",
    "\n",
    "### Mathematical Programming Model\n",
    "#### Sets:\n",
    "- $I$: Locations (Refinery + Clients).\n",
    "- $J$: Clients.\n",
    "\n",
    "#### Inputs:\n",
    "- $c_{ij}$: Distance between client $i$ and $j$.\n",
    "- $d_{i}$: Demand of client $i$.\n",
    "- $w$: Tank capacity in liters.\n",
    "\n",
    "#### Decision Variables:\n",
    "- $x_{ij}$: 1 if client $j$ is visited immediately after client $i$.\n",
    "- $y_{i}$: Quantity of oil delivered up to $i$.\n",
    "\n",
    "#### Objective Function: Minimize the total kilometers driven.\n",
    "$$\\text{min} \\sum_{i \\in I} \\sum_{j \\in I, i \\neq j} c_{ij}x_{ij}$$\n",
    "\n",
    "#### Constraints:\n",
    "1. Client $j$ could be visited only by one $i$ location.\n",
    "$$\\sum_{i \\in I, i \\neq j} x_{ij} = 1 \\qquad \\forall j \\in J$$\n",
    "\n",
    "2. Client $i$ could visit only one $j$ location.\n",
    "$$\\sum_{j \\in I, i \\neq j} x_{ij} = 1 \\qquad \\forall i \\in J$$\n",
    "\n",
    "3. The quantity of oil delivered must be at least as large as the quantity ordered by client $i$.\n",
    "$$d_{i} \\leq y_{i} \\qquad \\forall i \\in J$$\n",
    "\n",
    "4. The quantity of oil delivered to client $i$ must be less than tank capacity.\n",
    "$$y_{i} \\leq w \\qquad \\forall i \\in J$$\n",
    "\n",
    "5. If client $i$ is the first of a tour, then $y_{i}$ is equal to the quantity ordered by this client. Otherwise, it could be at least as large as the tank capacity.\n",
    "$$y_{i} \\leq w + (d_{i} - w)x_{1i} \\qquad \\forall i \\in J$$\n",
    "\n",
    "6. If client $i$ is the first of a tour, then $y_{i}$ is equal to the quantity delivered from the refinery up to client $i$ plus the quantity ordered by client $j$.\n",
    "$$y_{j} \\geq y_{i} + d_{j} - w + w x_{ij} + (w - d_{j} - d_{i})x_{ji} \\qquad \\forall i,j \\in J, i \\neq j$$\n",
    "\n",
    "7. Quantity of oil delivered is non-negative.\n",
    "$$y_{i} \\geq 0 \\qquad \\forall i \\in J$$\n",
    "\n",
    "8. Tour decision is binary.\n",
    "$$x_{ij} \\in \\{0,1\\} \\qquad \\forall i,j \\in I, i \\neq j$$"
   ]
  },
  {
   "cell_type": "code",
   "execution_count": 23,
   "id": "597d089a",
   "metadata": {
    "ExecuteTime": {
     "end_time": "2024-01-31T19:14:39.639141Z",
     "start_time": "2024-01-31T19:14:39.183283Z"
    }
   },
   "outputs": [],
   "source": [
    "import pyomo.environ as pyo\n",
    "import pandas as pd\n",
    "import numpy as np\n",
    "import matplotlib.pyplot as plt"
   ]
  },
  {
   "cell_type": "code",
   "execution_count": 5,
   "id": "4ea7e182",
   "metadata": {
    "ExecuteTime": {
     "end_time": "2024-01-31T19:14:40.428913Z",
     "start_time": "2024-01-31T19:14:40.159796Z"
    }
   },
   "outputs": [
    {
     "data": {
      "text/plain": [
       "{'Distances':           i\\j  California  Washington  Nueva York  Colorado  Texas  Tennessee  \\\n",
       " 0  California           0         148          55        32     70        140   \n",
       " 1  Washington         148           0          93       180     99         12   \n",
       " 2  Nueva York          55          93           0        85     20         83   \n",
       " 3    Colorado          32         180          85         0    100        174   \n",
       " 4       Texas          70          99          20       100      0         85   \n",
       " 5   Tennessee         140          12          83       174     85          0   \n",
       " 6      Dakota          73          72          28        99     49         73   \n",
       " \n",
       "    Dakota  \n",
       " 0      73  \n",
       " 1      72  \n",
       " 2      28  \n",
       " 3      99  \n",
       " 4      49  \n",
       " 5      73  \n",
       " 6       0  ,\n",
       " 'Demand':        Client  Demand  Tank_capacity\n",
       " 0  Washington   14000        39000.0\n",
       " 1  Nueva York    3000            NaN\n",
       " 2    Colorado    6000            NaN\n",
       " 3       Texas   16000            NaN\n",
       " 4   Tennessee   15000            NaN\n",
       " 5      Dakota    5000            NaN}"
      ]
     },
     "execution_count": 5,
     "metadata": {},
     "output_type": "execute_result"
    }
   ],
   "source": [
    "data = pd.read_excel(\"./data/heating_oil_delivery.xlsx\", sheet_name=None)\n",
    "data"
   ]
  },
  {
   "cell_type": "code",
   "execution_count": 14,
   "id": "2c5436d0",
   "metadata": {
    "ExecuteTime": {
     "end_time": "2024-01-31T19:15:44.152898Z",
     "start_time": "2024-01-31T19:15:44.145530Z"
    }
   },
   "outputs": [
    {
     "data": {
      "text/html": [
       "<div>\n",
       "<style scoped>\n",
       "    .dataframe tbody tr th:only-of-type {\n",
       "        vertical-align: middle;\n",
       "    }\n",
       "\n",
       "    .dataframe tbody tr th {\n",
       "        vertical-align: top;\n",
       "    }\n",
       "\n",
       "    .dataframe thead th {\n",
       "        text-align: right;\n",
       "    }\n",
       "</style>\n",
       "<table border=\"1\" class=\"dataframe\">\n",
       "  <thead>\n",
       "    <tr style=\"text-align: right;\">\n",
       "      <th></th>\n",
       "      <th>California</th>\n",
       "      <th>Washington</th>\n",
       "      <th>Nueva York</th>\n",
       "      <th>Colorado</th>\n",
       "      <th>Texas</th>\n",
       "      <th>Tennessee</th>\n",
       "      <th>Dakota</th>\n",
       "    </tr>\n",
       "    <tr>\n",
       "      <th>i\\j</th>\n",
       "      <th></th>\n",
       "      <th></th>\n",
       "      <th></th>\n",
       "      <th></th>\n",
       "      <th></th>\n",
       "      <th></th>\n",
       "      <th></th>\n",
       "    </tr>\n",
       "  </thead>\n",
       "  <tbody>\n",
       "    <tr>\n",
       "      <th>California</th>\n",
       "      <td>0</td>\n",
       "      <td>148</td>\n",
       "      <td>55</td>\n",
       "      <td>32</td>\n",
       "      <td>70</td>\n",
       "      <td>140</td>\n",
       "      <td>73</td>\n",
       "    </tr>\n",
       "    <tr>\n",
       "      <th>Washington</th>\n",
       "      <td>148</td>\n",
       "      <td>0</td>\n",
       "      <td>93</td>\n",
       "      <td>180</td>\n",
       "      <td>99</td>\n",
       "      <td>12</td>\n",
       "      <td>72</td>\n",
       "    </tr>\n",
       "    <tr>\n",
       "      <th>Nueva York</th>\n",
       "      <td>55</td>\n",
       "      <td>93</td>\n",
       "      <td>0</td>\n",
       "      <td>85</td>\n",
       "      <td>20</td>\n",
       "      <td>83</td>\n",
       "      <td>28</td>\n",
       "    </tr>\n",
       "    <tr>\n",
       "      <th>Colorado</th>\n",
       "      <td>32</td>\n",
       "      <td>180</td>\n",
       "      <td>85</td>\n",
       "      <td>0</td>\n",
       "      <td>100</td>\n",
       "      <td>174</td>\n",
       "      <td>99</td>\n",
       "    </tr>\n",
       "    <tr>\n",
       "      <th>Texas</th>\n",
       "      <td>70</td>\n",
       "      <td>99</td>\n",
       "      <td>20</td>\n",
       "      <td>100</td>\n",
       "      <td>0</td>\n",
       "      <td>85</td>\n",
       "      <td>49</td>\n",
       "    </tr>\n",
       "    <tr>\n",
       "      <th>Tennessee</th>\n",
       "      <td>140</td>\n",
       "      <td>12</td>\n",
       "      <td>83</td>\n",
       "      <td>174</td>\n",
       "      <td>85</td>\n",
       "      <td>0</td>\n",
       "      <td>73</td>\n",
       "    </tr>\n",
       "    <tr>\n",
       "      <th>Dakota</th>\n",
       "      <td>73</td>\n",
       "      <td>72</td>\n",
       "      <td>28</td>\n",
       "      <td>99</td>\n",
       "      <td>49</td>\n",
       "      <td>73</td>\n",
       "      <td>0</td>\n",
       "    </tr>\n",
       "  </tbody>\n",
       "</table>\n",
       "</div>"
      ],
      "text/plain": [
       "            California  Washington  Nueva York  Colorado  Texas  Tennessee  \\\n",
       "i\\j                                                                          \n",
       "California           0         148          55        32     70        140   \n",
       "Washington         148           0          93       180     99         12   \n",
       "Nueva York          55          93           0        85     20         83   \n",
       "Colorado            32         180          85         0    100        174   \n",
       "Texas               70          99          20       100      0         85   \n",
       "Tennessee          140          12          83       174     85          0   \n",
       "Dakota              73          72          28        99     49         73   \n",
       "\n",
       "            Dakota  \n",
       "i\\j                 \n",
       "California      73  \n",
       "Washington      72  \n",
       "Nueva York      28  \n",
       "Colorado        99  \n",
       "Texas           49  \n",
       "Tennessee       73  \n",
       "Dakota           0  "
      ]
     },
     "execution_count": 14,
     "metadata": {},
     "output_type": "execute_result"
    }
   ],
   "source": [
    "distances = data[\"Distances\"]\n",
    "distances.index = distances.iloc[:,0]\n",
    "distances = distances.drop(columns=distances.columns[0])\n",
    "distances"
   ]
  },
  {
   "cell_type": "code",
   "execution_count": 16,
   "id": "6ae36d60",
   "metadata": {
    "ExecuteTime": {
     "end_time": "2024-01-31T19:18:46.767501Z",
     "start_time": "2024-01-31T19:18:46.759485Z"
    },
    "scrolled": false
   },
   "outputs": [
    {
     "data": {
      "text/html": [
       "<div>\n",
       "<style scoped>\n",
       "    .dataframe tbody tr th:only-of-type {\n",
       "        vertical-align: middle;\n",
       "    }\n",
       "\n",
       "    .dataframe tbody tr th {\n",
       "        vertical-align: top;\n",
       "    }\n",
       "\n",
       "    .dataframe thead th {\n",
       "        text-align: right;\n",
       "    }\n",
       "</style>\n",
       "<table border=\"1\" class=\"dataframe\">\n",
       "  <thead>\n",
       "    <tr style=\"text-align: right;\">\n",
       "      <th></th>\n",
       "      <th>Demand</th>\n",
       "      <th>Tank_capacity</th>\n",
       "    </tr>\n",
       "    <tr>\n",
       "      <th>Client</th>\n",
       "      <th></th>\n",
       "      <th></th>\n",
       "    </tr>\n",
       "  </thead>\n",
       "  <tbody>\n",
       "    <tr>\n",
       "      <th>Washington</th>\n",
       "      <td>14000</td>\n",
       "      <td>39000.0</td>\n",
       "    </tr>\n",
       "    <tr>\n",
       "      <th>Nueva York</th>\n",
       "      <td>3000</td>\n",
       "      <td>NaN</td>\n",
       "    </tr>\n",
       "    <tr>\n",
       "      <th>Colorado</th>\n",
       "      <td>6000</td>\n",
       "      <td>NaN</td>\n",
       "    </tr>\n",
       "    <tr>\n",
       "      <th>Texas</th>\n",
       "      <td>16000</td>\n",
       "      <td>NaN</td>\n",
       "    </tr>\n",
       "    <tr>\n",
       "      <th>Tennessee</th>\n",
       "      <td>15000</td>\n",
       "      <td>NaN</td>\n",
       "    </tr>\n",
       "    <tr>\n",
       "      <th>Dakota</th>\n",
       "      <td>5000</td>\n",
       "      <td>NaN</td>\n",
       "    </tr>\n",
       "  </tbody>\n",
       "</table>\n",
       "</div>"
      ],
      "text/plain": [
       "            Demand  Tank_capacity\n",
       "Client                           \n",
       "Washington   14000        39000.0\n",
       "Nueva York    3000            NaN\n",
       "Colorado      6000            NaN\n",
       "Texas        16000            NaN\n",
       "Tennessee    15000            NaN\n",
       "Dakota        5000            NaN"
      ]
     },
     "execution_count": 16,
     "metadata": {},
     "output_type": "execute_result"
    }
   ],
   "source": [
    "demand = data[\"Demand\"]\n",
    "demand.index = demand[\"Client\"]\n",
    "demand = demand.drop(columns=[\"Client\"]).copy()\n",
    "demand"
   ]
  },
  {
   "cell_type": "code",
   "execution_count": 17,
   "id": "2c28a9a6",
   "metadata": {
    "ExecuteTime": {
     "end_time": "2024-01-31T21:13:27.013850Z",
     "start_time": "2024-01-31T21:13:26.997662Z"
    }
   },
   "outputs": [],
   "source": [
    "# Set of Locations\n",
    "I = distances.index\n",
    "\n",
    "# Set of Clients\n",
    "J = I[1:]\n",
    "\n",
    "# Demand\n",
    "d = demand[\"Demand\"]\n",
    "\n",
    "# Tank capacity in liters\n",
    "w = demand[\"Tank_capacity\"].values[0]"
   ]
  },
  {
   "cell_type": "code",
   "execution_count": 18,
   "id": "bd323fb8",
   "metadata": {
    "ExecuteTime": {
     "end_time": "2024-01-31T21:13:34.193451Z",
     "start_time": "2024-01-31T21:13:34.123265Z"
    }
   },
   "outputs": [
    {
     "data": {
      "text/plain": [
       "{'Problem': [{'Name': 'unknown', 'Lower bound': 497.0, 'Upper bound': 497.0, 'Number of objectives': 1, 'Number of constraints': 60, 'Number of variables': 48, 'Number of nonzeros': 216, 'Sense': 'minimize'}], 'Solver': [{'Status': 'ok', 'Termination condition': 'optimal', 'Statistics': {'Branch and bound': {'Number of bounded subproblems': '161', 'Number of created subproblems': '161'}}, 'Error rc': 0, 'Time': 0.018558979034423828}], 'Solution': [OrderedDict({'number of solutions': 0, 'number of solutions displayed': 0})]}"
      ]
     },
     "execution_count": 18,
     "metadata": {},
     "output_type": "execute_result"
    }
   ],
   "source": [
    "model = pyo.ConcreteModel(\"Heating oil delivery\")\n",
    "\n",
    "model.x = pyo.Var(I, I, domain=pyo.Binary, doc=\"1 if client j is visited immediately after client i\")\n",
    "model.y = pyo.Var(I, domain=pyo.NonNegativeReals, doc=\"Quantity of oil delivered up to i\")\n",
    "\n",
    "model.objective = pyo.Objective(expr=sum(distances.loc[i,j]*model.x[i,j] for i in I for j in I if i != j), doc=\"Minimize the total kilometers driven\")\n",
    "\n",
    "model.constraint1 = pyo.ConstraintList(doc=\"Client j could be visited only by one i location\")\n",
    "for j in J:\n",
    "    model.constraint1.add(expr=sum(model.x[i,j] for i in I if i != j) == 1)\n",
    "\n",
    "model.constraint2 = pyo.ConstraintList(doc=\"Client i could visit only one j location\")\n",
    "for i in J:\n",
    "    model.constraint2.add(expr=sum(model.x[i,j] for j in I if i != j) == 1)\n",
    "\n",
    "model.constraint3 = pyo.ConstraintList(doc=\"The quantity of oil delivered must be at least as large as the quantity ordered by client i\")\n",
    "for i in J:\n",
    "    model.constraint3.add(expr=model.y[i] >= d[i])\n",
    "\n",
    "model.constraint4 = pyo.ConstraintList(doc=\"The quantity of oil delivered to client i must be less than tank capacity\")\n",
    "for i in J:\n",
    "    model.constraint4.add(expr=model.y[i] <= w)\n",
    "\n",
    "model.constraint5 = pyo.ConstraintList(doc=\"If client i is the first of a tour, then y[i] is equal to the quantity ordered by this client.\\\n",
    "                                       Otherwise, it could be at least as large as the tank capacity\")\n",
    "for i in J:\n",
    "    model.constraint5.add(expr=model.y[i] <= w + (d[i] - w)*model.x[I[0], i])\n",
    "\n",
    "model.constraint6 = pyo.ConstraintList(doc=\"If client i is the first of a tourm then y[i] is equal to the quantity delivered from refinery\\\n",
    "                                       up to client i plus the quantity ordered by client j\")\n",
    "for i in J:\n",
    "    for j in J:\n",
    "        if i != j:\n",
    "            model.constraint6.add(expr=model.y[j] >= model.y[i] + (d[j] - w) + w*model.x[i,j] +\\\n",
    "                                                                                        (w - d[j] - d[i])*model.x[j,i])\n",
    "\n",
    "solver = pyo.SolverFactory(\"glpk\")\n",
    "results = solver.solve(model)\n",
    "results"
   ]
  },
  {
   "cell_type": "code",
   "execution_count": 19,
   "id": "3533bec3",
   "metadata": {
    "ExecuteTime": {
     "end_time": "2024-01-31T21:13:35.006166Z",
     "start_time": "2024-01-31T21:13:34.983194Z"
    },
    "scrolled": false
   },
   "outputs": [
    {
     "name": "stdout",
     "output_type": "stream",
     "text": [
      "2 Var Declarations\n",
      "    x : 1 if client j is visited immediately after client i\n",
      "        Size=49, Index={Texas, California, Dakota, Nueva York, Colorado, Washington, Tennessee}*{Texas, California, Dakota, Nueva York, Colorado, Washington, Tennessee}\n",
      "        Key                          : Lower : Value : Upper : Fixed : Stale : Domain\n",
      "        ('California', 'California') :     0 :  None :     1 : False :  True : Binary\n",
      "          ('California', 'Colorado') :     0 :   1.0 :     1 : False : False : Binary\n",
      "            ('California', 'Dakota') :     0 :   1.0 :     1 : False : False : Binary\n",
      "        ('California', 'Nueva York') :     0 :   0.0 :     1 : False : False : Binary\n",
      "         ('California', 'Tennessee') :     0 :   0.0 :     1 : False : False : Binary\n",
      "             ('California', 'Texas') :     0 :   0.0 :     1 : False : False : Binary\n",
      "        ('California', 'Washington') :     0 :   0.0 :     1 : False : False : Binary\n",
      "          ('Colorado', 'California') :     0 :   0.0 :     1 : False : False : Binary\n",
      "            ('Colorado', 'Colorado') :     0 :  None :     1 : False :  True : Binary\n",
      "              ('Colorado', 'Dakota') :     0 :   0.0 :     1 : False : False : Binary\n",
      "          ('Colorado', 'Nueva York') :     0 :   0.0 :     1 : False : False : Binary\n",
      "           ('Colorado', 'Tennessee') :     0 :   0.0 :     1 : False : False : Binary\n",
      "               ('Colorado', 'Texas') :     0 :   1.0 :     1 : False : False : Binary\n",
      "          ('Colorado', 'Washington') :     0 :   0.0 :     1 : False : False : Binary\n",
      "            ('Dakota', 'California') :     0 :   0.0 :     1 : False : False : Binary\n",
      "              ('Dakota', 'Colorado') :     0 :   0.0 :     1 : False : False : Binary\n",
      "                ('Dakota', 'Dakota') :     0 :  None :     1 : False :  True : Binary\n",
      "            ('Dakota', 'Nueva York') :     0 :   0.0 :     1 : False : False : Binary\n",
      "             ('Dakota', 'Tennessee') :     0 :   0.0 :     1 : False : False : Binary\n",
      "                 ('Dakota', 'Texas') :     0 :   0.0 :     1 : False : False : Binary\n",
      "            ('Dakota', 'Washington') :     0 :   1.0 :     1 : False : False : Binary\n",
      "        ('Nueva York', 'California') :     0 :   1.0 :     1 : False : False : Binary\n",
      "          ('Nueva York', 'Colorado') :     0 :   0.0 :     1 : False : False : Binary\n",
      "            ('Nueva York', 'Dakota') :     0 :   0.0 :     1 : False : False : Binary\n",
      "        ('Nueva York', 'Nueva York') :     0 :  None :     1 : False :  True : Binary\n",
      "         ('Nueva York', 'Tennessee') :     0 :   0.0 :     1 : False : False : Binary\n",
      "             ('Nueva York', 'Texas') :     0 :   0.0 :     1 : False : False : Binary\n",
      "        ('Nueva York', 'Washington') :     0 :   0.0 :     1 : False : False : Binary\n",
      "         ('Tennessee', 'California') :     0 :   0.0 :     1 : False : False : Binary\n",
      "           ('Tennessee', 'Colorado') :     0 :   0.0 :     1 : False : False : Binary\n",
      "             ('Tennessee', 'Dakota') :     0 :   0.0 :     1 : False : False : Binary\n",
      "         ('Tennessee', 'Nueva York') :     0 :   1.0 :     1 : False : False : Binary\n",
      "          ('Tennessee', 'Tennessee') :     0 :  None :     1 : False :  True : Binary\n",
      "              ('Tennessee', 'Texas') :     0 :   0.0 :     1 : False : False : Binary\n",
      "         ('Tennessee', 'Washington') :     0 :   0.0 :     1 : False : False : Binary\n",
      "             ('Texas', 'California') :     0 :   1.0 :     1 : False : False : Binary\n",
      "               ('Texas', 'Colorado') :     0 :   0.0 :     1 : False : False : Binary\n",
      "                 ('Texas', 'Dakota') :     0 :   0.0 :     1 : False : False : Binary\n",
      "             ('Texas', 'Nueva York') :     0 :   0.0 :     1 : False : False : Binary\n",
      "              ('Texas', 'Tennessee') :     0 :   0.0 :     1 : False : False : Binary\n",
      "                  ('Texas', 'Texas') :     0 :  None :     1 : False :  True : Binary\n",
      "             ('Texas', 'Washington') :     0 :   0.0 :     1 : False : False : Binary\n",
      "        ('Washington', 'California') :     0 :   0.0 :     1 : False : False : Binary\n",
      "          ('Washington', 'Colorado') :     0 :   0.0 :     1 : False : False : Binary\n",
      "            ('Washington', 'Dakota') :     0 :   0.0 :     1 : False : False : Binary\n",
      "        ('Washington', 'Nueva York') :     0 :   0.0 :     1 : False : False : Binary\n",
      "         ('Washington', 'Tennessee') :     0 :   1.0 :     1 : False : False : Binary\n",
      "             ('Washington', 'Texas') :     0 :   0.0 :     1 : False : False : Binary\n",
      "        ('Washington', 'Washington') :     0 :  None :     1 : False :  True : Binary\n",
      "    y : Quantity of oil delivered up to i\n",
      "        Size=7, Index={Texas, California, Dakota, Nueva York, Colorado, Washington, Tennessee}\n",
      "        Key        : Lower : Value   : Upper : Fixed : Stale : Domain\n",
      "        California :     0 :    None :  None : False :  True : NonNegativeReals\n",
      "          Colorado :     0 :  6000.0 :  None : False : False : NonNegativeReals\n",
      "            Dakota :     0 :  5000.0 :  None : False : False : NonNegativeReals\n",
      "        Nueva York :     0 : 37000.0 :  None : False : False : NonNegativeReals\n",
      "         Tennessee :     0 : 34000.0 :  None : False : False : NonNegativeReals\n",
      "             Texas :     0 : 22000.0 :  None : False : False : NonNegativeReals\n",
      "        Washington :     0 : 19000.0 :  None : False : False : NonNegativeReals\n",
      "\n",
      "1 Objective Declarations\n",
      "    objective : Minimize the total kilometers driven\n",
      "        Size=1, Index=None, Active=True\n",
      "        Key  : Active : Sense    : Expression\n",
      "        None :   True : minimize : 148*x[California,Washington] + 55*x[California,Nueva York] + 32*x[California,Colorado] + 70*x[California,Texas] + 140*x[California,Tennessee] + 73*x[California,Dakota] + 148*x[Washington,California] + 93*x[Washington,Nueva York] + 180*x[Washington,Colorado] + 99*x[Washington,Texas] + 12*x[Washington,Tennessee] + 72*x[Washington,Dakota] + 55*x[Nueva York,California] + 93*x[Nueva York,Washington] + 85*x[Nueva York,Colorado] + 20*x[Nueva York,Texas] + 83*x[Nueva York,Tennessee] + 28*x[Nueva York,Dakota] + 32*x[Colorado,California] + 180*x[Colorado,Washington] + 85*x[Colorado,Nueva York] + 100*x[Colorado,Texas] + 174*x[Colorado,Tennessee] + 99*x[Colorado,Dakota] + 70*x[Texas,California] + 99*x[Texas,Washington] + 20*x[Texas,Nueva York] + 100*x[Texas,Colorado] + 85*x[Texas,Tennessee] + 49*x[Texas,Dakota] + 140*x[Tennessee,California] + 12*x[Tennessee,Washington] + 83*x[Tennessee,Nueva York] + 174*x[Tennessee,Colorado] + 85*x[Tennessee,Texas] + 73*x[Tennessee,Dakota] + 73*x[Dakota,California] + 72*x[Dakota,Washington] + 28*x[Dakota,Nueva York] + 99*x[Dakota,Colorado] + 49*x[Dakota,Texas] + 73*x[Dakota,Tennessee]\n",
      "\n",
      "6 Constraint Declarations\n",
      "    constraint1 : Client j could be visited only by one i location\n",
      "        Size=6, Index={1, 2, 3, 4, 5, 6}, Active=True\n",
      "        Key : Lower : Body                                                                                                                                                : Upper : Active\n",
      "          1 :   1.0 : x[California,Washington] + x[Nueva York,Washington] + x[Colorado,Washington] + x[Texas,Washington] + x[Tennessee,Washington] + x[Dakota,Washington] :   1.0 :   True\n",
      "          2 :   1.0 : x[California,Nueva York] + x[Washington,Nueva York] + x[Colorado,Nueva York] + x[Texas,Nueva York] + x[Tennessee,Nueva York] + x[Dakota,Nueva York] :   1.0 :   True\n",
      "          3 :   1.0 :           x[California,Colorado] + x[Washington,Colorado] + x[Nueva York,Colorado] + x[Texas,Colorado] + x[Tennessee,Colorado] + x[Dakota,Colorado] :   1.0 :   True\n",
      "          4 :   1.0 :                          x[California,Texas] + x[Washington,Texas] + x[Nueva York,Texas] + x[Colorado,Texas] + x[Tennessee,Texas] + x[Dakota,Texas] :   1.0 :   True\n",
      "          5 :   1.0 :      x[California,Tennessee] + x[Washington,Tennessee] + x[Nueva York,Tennessee] + x[Colorado,Tennessee] + x[Texas,Tennessee] + x[Dakota,Tennessee] :   1.0 :   True\n",
      "          6 :   1.0 :                     x[California,Dakota] + x[Washington,Dakota] + x[Nueva York,Dakota] + x[Colorado,Dakota] + x[Texas,Dakota] + x[Tennessee,Dakota] :   1.0 :   True\n",
      "    constraint2 : Client i could visit only one j location\n",
      "        Size=6, Index={1, 2, 3, 4, 5, 6}, Active=True\n",
      "        Key : Lower : Body                                                                                                                                                : Upper : Active\n",
      "          1 :   1.0 : x[Washington,California] + x[Washington,Nueva York] + x[Washington,Colorado] + x[Washington,Texas] + x[Washington,Tennessee] + x[Washington,Dakota] :   1.0 :   True\n",
      "          2 :   1.0 : x[Nueva York,California] + x[Nueva York,Washington] + x[Nueva York,Colorado] + x[Nueva York,Texas] + x[Nueva York,Tennessee] + x[Nueva York,Dakota] :   1.0 :   True\n",
      "          3 :   1.0 :           x[Colorado,California] + x[Colorado,Washington] + x[Colorado,Nueva York] + x[Colorado,Texas] + x[Colorado,Tennessee] + x[Colorado,Dakota] :   1.0 :   True\n",
      "          4 :   1.0 :                          x[Texas,California] + x[Texas,Washington] + x[Texas,Nueva York] + x[Texas,Colorado] + x[Texas,Tennessee] + x[Texas,Dakota] :   1.0 :   True\n",
      "          5 :   1.0 :      x[Tennessee,California] + x[Tennessee,Washington] + x[Tennessee,Nueva York] + x[Tennessee,Colorado] + x[Tennessee,Texas] + x[Tennessee,Dakota] :   1.0 :   True\n",
      "          6 :   1.0 :                     x[Dakota,California] + x[Dakota,Washington] + x[Dakota,Nueva York] + x[Dakota,Colorado] + x[Dakota,Texas] + x[Dakota,Tennessee] :   1.0 :   True\n",
      "    constraint3 : The quantity of oil delivered must be at least as large as the quantity ordered by client i\n",
      "        Size=6, Index={1, 2, 3, 4, 5, 6}, Active=True\n",
      "        Key : Lower   : Body          : Upper : Active\n",
      "          1 : 14000.0 : y[Washington] :  +Inf :   True\n",
      "          2 :  3000.0 : y[Nueva York] :  +Inf :   True\n",
      "          3 :  6000.0 :   y[Colorado] :  +Inf :   True\n",
      "          4 : 16000.0 :      y[Texas] :  +Inf :   True\n",
      "          5 : 15000.0 :  y[Tennessee] :  +Inf :   True\n",
      "          6 :  5000.0 :     y[Dakota] :  +Inf :   True\n",
      "    constraint4 : The quantity of oil delivered to client i must be less than tank capacity\n",
      "        Size=6, Index={1, 2, 3, 4, 5, 6}, Active=True\n",
      "        Key : Lower : Body          : Upper   : Active\n",
      "          1 :  -Inf : y[Washington] : 39000.0 :   True\n",
      "          2 :  -Inf : y[Nueva York] : 39000.0 :   True\n",
      "          3 :  -Inf :   y[Colorado] : 39000.0 :   True\n",
      "          4 :  -Inf :      y[Texas] : 39000.0 :   True\n",
      "          5 :  -Inf :  y[Tennessee] : 39000.0 :   True\n",
      "          6 :  -Inf :     y[Dakota] : 39000.0 :   True\n",
      "    constraint5 : If client i is the first of a tour, then y[i] is equal to the quantity ordered by this client.                                       Otherwise, it could be at least as large as the tank capacity\n",
      "        Size=6, Index={1, 2, 3, 4, 5, 6}, Active=True\n",
      "        Key : Lower : Body                                                         : Upper : Active\n",
      "          1 :  -Inf : y[Washington] - (39000.0 - 25000.0*x[California,Washington]) :   0.0 :   True\n",
      "          2 :  -Inf : y[Nueva York] - (39000.0 - 36000.0*x[California,Nueva York]) :   0.0 :   True\n",
      "          3 :  -Inf :     y[Colorado] - (39000.0 - 33000.0*x[California,Colorado]) :   0.0 :   True\n",
      "          4 :  -Inf :           y[Texas] - (39000.0 - 23000.0*x[California,Texas]) :   0.0 :   True\n",
      "          5 :  -Inf :   y[Tennessee] - (39000.0 - 24000.0*x[California,Tennessee]) :   0.0 :   True\n",
      "          6 :  -Inf :         y[Dakota] - (39000.0 - 34000.0*x[California,Dakota]) :   0.0 :   True\n",
      "    constraint6 : If client i is the first of a tourm then y[i] is equal to the quantity delivered from refinery                                       up to client i plus the quantity ordered by client j\n",
      "        Size=30, Index={1, 2, 3, 4, 5, 6, 7, 8, 9, 10, 11, 12, 13, 14, 15, 16, 17, 18, 19, 20, 21, 22, 23, 24, 25, 26, 27, 28, 29, 30}, Active=True\n",
      "        Key : Lower : Body                                                                                                          : Upper : Active\n",
      "          1 :  -Inf : y[Washington] - 36000.0 + 39000.0*x[Washington,Nueva York] + 22000.0*x[Nueva York,Washington] - y[Nueva York] :   0.0 :   True\n",
      "          2 :  -Inf :       y[Washington] - 33000.0 + 39000.0*x[Washington,Colorado] + 19000.0*x[Colorado,Washington] - y[Colorado] :   0.0 :   True\n",
      "          3 :  -Inf :                 y[Washington] - 23000.0 + 39000.0*x[Washington,Texas] + 9000.0*x[Texas,Washington] - y[Texas] :   0.0 :   True\n",
      "          4 :  -Inf :    y[Washington] - 24000.0 + 39000.0*x[Washington,Tennessee] + 10000.0*x[Tennessee,Washington] - y[Tennessee] :   0.0 :   True\n",
      "          5 :  -Inf :             y[Washington] - 34000.0 + 39000.0*x[Washington,Dakota] + 20000.0*x[Dakota,Washington] - y[Dakota] :   0.0 :   True\n",
      "          6 :  -Inf : y[Nueva York] - 25000.0 + 39000.0*x[Nueva York,Washington] + 22000.0*x[Washington,Nueva York] - y[Washington] :   0.0 :   True\n",
      "          7 :  -Inf :       y[Nueva York] - 33000.0 + 39000.0*x[Nueva York,Colorado] + 30000.0*x[Colorado,Nueva York] - y[Colorado] :   0.0 :   True\n",
      "          8 :  -Inf :                y[Nueva York] - 23000.0 + 39000.0*x[Nueva York,Texas] + 20000.0*x[Texas,Nueva York] - y[Texas] :   0.0 :   True\n",
      "          9 :  -Inf :    y[Nueva York] - 24000.0 + 39000.0*x[Nueva York,Tennessee] + 21000.0*x[Tennessee,Nueva York] - y[Tennessee] :   0.0 :   True\n",
      "         10 :  -Inf :             y[Nueva York] - 34000.0 + 39000.0*x[Nueva York,Dakota] + 31000.0*x[Dakota,Nueva York] - y[Dakota] :   0.0 :   True\n",
      "         11 :  -Inf :       y[Colorado] - 25000.0 + 39000.0*x[Colorado,Washington] + 19000.0*x[Washington,Colorado] - y[Washington] :   0.0 :   True\n",
      "         12 :  -Inf :       y[Colorado] - 36000.0 + 39000.0*x[Colorado,Nueva York] + 30000.0*x[Nueva York,Colorado] - y[Nueva York] :   0.0 :   True\n",
      "         13 :  -Inf :                      y[Colorado] - 23000.0 + 39000.0*x[Colorado,Texas] + 17000.0*x[Texas,Colorado] - y[Texas] :   0.0 :   True\n",
      "         14 :  -Inf :          y[Colorado] - 24000.0 + 39000.0*x[Colorado,Tennessee] + 18000.0*x[Tennessee,Colorado] - y[Tennessee] :   0.0 :   True\n",
      "         15 :  -Inf :                   y[Colorado] - 34000.0 + 39000.0*x[Colorado,Dakota] + 28000.0*x[Dakota,Colorado] - y[Dakota] :   0.0 :   True\n",
      "         16 :  -Inf :                 y[Texas] - 25000.0 + 39000.0*x[Texas,Washington] + 9000.0*x[Washington,Texas] - y[Washington] :   0.0 :   True\n",
      "         17 :  -Inf :                y[Texas] - 36000.0 + 39000.0*x[Texas,Nueva York] + 20000.0*x[Nueva York,Texas] - y[Nueva York] :   0.0 :   True\n",
      "         18 :  -Inf :                      y[Texas] - 33000.0 + 39000.0*x[Texas,Colorado] + 17000.0*x[Colorado,Texas] - y[Colorado] :   0.0 :   True\n",
      "         19 :  -Inf :                    y[Texas] - 24000.0 + 39000.0*x[Texas,Tennessee] + 8000.0*x[Tennessee,Texas] - y[Tennessee] :   0.0 :   True\n",
      "         20 :  -Inf :                            y[Texas] - 34000.0 + 39000.0*x[Texas,Dakota] + 18000.0*x[Dakota,Texas] - y[Dakota] :   0.0 :   True\n",
      "         21 :  -Inf :    y[Tennessee] - 25000.0 + 39000.0*x[Tennessee,Washington] + 10000.0*x[Washington,Tennessee] - y[Washington] :   0.0 :   True\n",
      "         22 :  -Inf :    y[Tennessee] - 36000.0 + 39000.0*x[Tennessee,Nueva York] + 21000.0*x[Nueva York,Tennessee] - y[Nueva York] :   0.0 :   True\n",
      "         23 :  -Inf :          y[Tennessee] - 33000.0 + 39000.0*x[Tennessee,Colorado] + 18000.0*x[Colorado,Tennessee] - y[Colorado] :   0.0 :   True\n",
      "         24 :  -Inf :                    y[Tennessee] - 23000.0 + 39000.0*x[Tennessee,Texas] + 8000.0*x[Texas,Tennessee] - y[Texas] :   0.0 :   True\n",
      "         25 :  -Inf :                y[Tennessee] - 34000.0 + 39000.0*x[Tennessee,Dakota] + 19000.0*x[Dakota,Tennessee] - y[Dakota] :   0.0 :   True\n",
      "         26 :  -Inf :             y[Dakota] - 25000.0 + 39000.0*x[Dakota,Washington] + 20000.0*x[Washington,Dakota] - y[Washington] :   0.0 :   True\n",
      "         27 :  -Inf :             y[Dakota] - 36000.0 + 39000.0*x[Dakota,Nueva York] + 31000.0*x[Nueva York,Dakota] - y[Nueva York] :   0.0 :   True\n",
      "         28 :  -Inf :                   y[Dakota] - 33000.0 + 39000.0*x[Dakota,Colorado] + 28000.0*x[Colorado,Dakota] - y[Colorado] :   0.0 :   True\n",
      "         29 :  -Inf :                            y[Dakota] - 23000.0 + 39000.0*x[Dakota,Texas] + 18000.0*x[Texas,Dakota] - y[Texas] :   0.0 :   True\n",
      "         30 :  -Inf :                y[Dakota] - 24000.0 + 39000.0*x[Dakota,Tennessee] + 19000.0*x[Tennessee,Dakota] - y[Tennessee] :   0.0 :   True\n",
      "\n",
      "9 Declarations: x y objective constraint1 constraint2 constraint3 constraint4 constraint5 constraint6\n"
     ]
    }
   ],
   "source": [
    "model.pprint()"
   ]
  },
  {
   "cell_type": "code",
   "execution_count": 55,
   "id": "97b1ce0a",
   "metadata": {
    "ExecuteTime": {
     "end_time": "2024-01-31T21:18:14.027399Z",
     "start_time": "2024-01-31T21:18:14.013071Z"
    }
   },
   "outputs": [
    {
     "name": "stdout",
     "output_type": "stream",
     "text": [
      "Goes to client in Colorado after visit client in California and is delivering 6000.0 oil liters\n",
      "Goes to client in Dakota after visit client in California and is delivering 5000.0 oil liters\n",
      "Goes to client in Tennessee after visit client in Washington and is delivering 34000.0 oil liters\n",
      "Goes to client in Texas after visit client in Colorado and is delivering 22000.0 oil liters\n",
      "Goes to client in Nueva York after visit client in Tennessee and is delivering 37000.0 oil liters\n",
      "Goes to client in Washington after visit client in Dakota and is delivering 19000.0 oil liters\n"
     ]
    }
   ],
   "source": [
    "for i in I:\n",
    "    for j in J:\n",
    "        if i != j and pyo.value(model.x[i,j]) != 0:\n",
    "            oil = pyo.value(model.y[j])\n",
    "            print(f\"Goes to client in {j} after visit client in {i} and is delivering {oil} oil liters\")"
   ]
  },
  {
   "cell_type": "code",
   "execution_count": 22,
   "id": "ddb71600",
   "metadata": {
    "ExecuteTime": {
     "end_time": "2024-01-31T21:18:39.834441Z",
     "start_time": "2024-01-31T21:18:39.805933Z"
    }
   },
   "outputs": [
    {
     "name": "stdout",
     "output_type": "stream",
     "text": [
      "Distance traveled: 497.0km\n"
     ]
    }
   ],
   "source": [
    "print(f\"Distance traveled: {pyo.value(model.objective)}km\")"
   ]
  },
  {
   "cell_type": "code",
   "execution_count": 80,
   "id": "6fe12bce",
   "metadata": {},
   "outputs": [
    {
     "data": {
      "image/png": "[encoded data removed]",
      "text/plain": [
       "<Figure size 1200x800 with 1 Axes>"
      ]
     },
     "metadata": {},
     "output_type": "display_data"
    }
   ],
   "source": [
    "# Let's plot the solution as a network\n",
    "import networkx as nx\n",
    "\n",
    "# Create a directed graph\n",
    "G = nx.DiGraph()\n",
    "\n",
    "for source in I:\n",
    "    for destination in J:\n",
    "        if source != destination and pyo.value(model.x[source, destination]) != 0:\n",
    "            oil = pyo.value(model.y[destination])\n",
    "            G.add_edge(source, destination, weight=oil)\n",
    "\n",
    "# Positioning the nodes\n",
    "pos = nx.spring_layout(G, k=30, iterations=50)\n",
    "edge_labels = nx.get_edge_attributes(G, \"weight\")\n",
    "\n",
    "options = {\n",
    "    \"node_size\": 5000,\n",
    "    \"arrowsize\": 24\n",
    "}\n",
    "\n",
    "plt.figure(figsize=(12, 8))\n",
    "nx.draw(G, pos, with_labels=True, arrows=True, **options)\n",
    "nx.draw_networkx_edge_labels(G, pos, edge_labels=edge_labels)\n",
    "\n",
    "plt.title(\"Transportation network\")\n",
    "plt.show()"
   ]
  },
  {
   "cell_type": "code",
   "execution_count": null,
   "id": "2f60dad1",
   "metadata": {},
   "outputs": [],
   "source": []
  }
 ],
 "metadata": {
  "hide_input": false,
  "kernelspec": {
   "display_name": "base",
   "language": "python",
   "name": "python3"
  },
  "language_info": {
   "codemirror_mode": {
    "name": "ipython",
    "version": 3
   },
   "file_extension": ".py",
   "mimetype": "text/x-python",
   "name": "python",
   "nbconvert_exporter": "python",
   "pygments_lexer": "ipython3",
   "version": "3.12.2"
  },
  "toc": {
   "base_numbering": 1,
   "nav_menu": {},
   "number_sections": true,
   "sideBar": true,
   "skip_h1_title": false,
   "title_cell": "Table of Contents",
   "title_sidebar": "Contents",
   "toc_cell": false,
   "toc_position": {},
   "toc_section_display": true,
   "toc_window_display": false
  },
  "varInspector": {
   "cols": {
    "lenName": 16,
    "lenType": 16,
    "lenVar": 40
   },
   "kernels_config": {
    "python": {
     "delete_cmd_postfix": "",
     "delete_cmd_prefix": "del ",
     "library": "var_list.py",
     "varRefreshCmd": "print(var_dic_list())"
    },
    "r": {
     "delete_cmd_postfix": ") ",
     "delete_cmd_prefix": "rm(",
     "library": "var_list.r",
     "varRefreshCmd": "cat(var_dic_list()) "
    }
   },
   "types_to_exclude": [
    "module",
    "function",
    "builtin_function_or_method",
    "instance",
    "_Feature"
   ],
   "window_display": false
  }
 },
 "nbformat": 4,
 "nbformat_minor": 5
}
