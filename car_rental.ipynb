{
 "cells": [
  {
   "cell_type": "markdown",
   "id": "51822060",
   "metadata": {},
   "source": [
    "# Car rental"
   ]
  },
  {
   "cell_type": "markdown",
   "id": "82fdc29f",
   "metadata": {},
   "source": [
    "A small car rental company has a fleet of 94 vehicles distributed among its 10 agencies. The location of every agency is given by its geographical coordinates X and Y in a grid based on kilometers. We assume that the road distance between agencies is approximately 1.3 times the Euclidean distance (as the crow flies). The following table indicates the coordinates of all agencies, the number of cars required the next morning, and the stock of cars in the evening preceding this day.\n",
    "\n",
    "Supposing the cost for transporting a car is $0.50 per km, determine the movements of cars that allow the company to re-establish the required numbers of cars at all agencies, minimizing the total cost incurred for transport.\n",
    "\n",
    "### Mathematical Programming Model\n",
    "##### Sets:\n",
    "- $A$: Agencies with more cars than demand.\n",
    "- $B$ Agencies with more demand than cars.\n",
    "\n",
    "##### Inputs:\n",
    "- $c$: Fixed transportation cost per car per kilometer.\n",
    "- $d_{ab}$: Distance between two agencies $a$ and $b$, $a \\in A, b \\in B$.\n",
    "- $r$: Agencies that require cars.\n",
    "- $p$: Agencies that quantity of cars present exceeds required cars.\n",
    "\n",
    "\n",
    "##### Objective Function: Minimize the total cost of transportin cars.\n",
    "$$\\text{min} \\sum_{a \\in A} \\sum_{b \\in B}c d_{ab} x_{ab}$$\n",
    "\n",
    "##### Decision Variables:\n",
    "$x_{ab}$: Flow between the two agencies, i.e. Quantity of cars to go from agency $a$ to agency $b$. $x_{ab} \\in \\mathbb{Z}_{+} \\cup \\{0\\}$\n",
    "\n",
    "##### Constraints:\n",
    "1. **Excess:** Every agency with an excess number of cars needs to get rid of these.\n",
    "$$ \\sum_{b \\in B} x_{ab} = p_{a} - r_{a} \\quad \\forall a \\in A$$\n",
    "\n",
    "2. **Need:** Every agency in need of car has to complete its fleet by receiving the missing number.\n",
    "$$ \\sum_{a \\in A} x_{a,b} = r_{b} - p_{b} \\quad \\forall b \\in B $$"
   ]
  },
  {
   "cell_type": "code",
   "execution_count": 1,
   "id": "c7de3259",
   "metadata": {
    "ExecuteTime": {
     "end_time": "2024-01-31T16:59:05.463198Z",
     "start_time": "2024-01-31T16:59:04.988431Z"
    }
   },
   "outputs": [],
   "source": [
    "import pyomo.environ as pyo\n",
    "import pandas as pd\n",
    "import numpy as np\n",
    "import matplotlib.pyplot as plt\n",
    "import seaborn as sns"
   ]
  },
  {
   "cell_type": "code",
   "execution_count": 2,
   "id": "54697a7c",
   "metadata": {
    "ExecuteTime": {
     "end_time": "2024-01-31T18:55:21.440824Z",
     "start_time": "2024-01-31T18:55:21.424825Z"
    }
   },
   "outputs": [
    {
     "data": {
      "text/html": [
       "<div>\n",
       "<style scoped>\n",
       "    .dataframe tbody tr th:only-of-type {\n",
       "        vertical-align: middle;\n",
       "    }\n",
       "\n",
       "    .dataframe tbody tr th {\n",
       "        vertical-align: top;\n",
       "    }\n",
       "\n",
       "    .dataframe thead th {\n",
       "        text-align: right;\n",
       "    }\n",
       "</style>\n",
       "<table border=\"1\" class=\"dataframe\">\n",
       "  <thead>\n",
       "    <tr style=\"text-align: right;\">\n",
       "      <th></th>\n",
       "      <th>X_coord</th>\n",
       "      <th>Y_coord</th>\n",
       "      <th>Required_Cars</th>\n",
       "      <th>Cars_Present</th>\n",
       "      <th>Fixed_Cost</th>\n",
       "      <th>Distance_Factor</th>\n",
       "    </tr>\n",
       "    <tr>\n",
       "      <th>Agency</th>\n",
       "      <th></th>\n",
       "      <th></th>\n",
       "      <th></th>\n",
       "      <th></th>\n",
       "      <th></th>\n",
       "      <th></th>\n",
       "    </tr>\n",
       "  </thead>\n",
       "  <tbody>\n",
       "    <tr>\n",
       "      <th>1</th>\n",
       "      <td>0</td>\n",
       "      <td>0</td>\n",
       "      <td>10</td>\n",
       "      <td>8</td>\n",
       "      <td>0.5</td>\n",
       "      <td>1.3</td>\n",
       "    </tr>\n",
       "    <tr>\n",
       "      <th>2</th>\n",
       "      <td>20</td>\n",
       "      <td>20</td>\n",
       "      <td>6</td>\n",
       "      <td>13</td>\n",
       "      <td>NaN</td>\n",
       "      <td>NaN</td>\n",
       "    </tr>\n",
       "    <tr>\n",
       "      <th>3</th>\n",
       "      <td>18</td>\n",
       "      <td>10</td>\n",
       "      <td>8</td>\n",
       "      <td>4</td>\n",
       "      <td>NaN</td>\n",
       "      <td>NaN</td>\n",
       "    </tr>\n",
       "    <tr>\n",
       "      <th>4</th>\n",
       "      <td>30</td>\n",
       "      <td>12</td>\n",
       "      <td>11</td>\n",
       "      <td>8</td>\n",
       "      <td>NaN</td>\n",
       "      <td>NaN</td>\n",
       "    </tr>\n",
       "    <tr>\n",
       "      <th>5</th>\n",
       "      <td>35</td>\n",
       "      <td>0</td>\n",
       "      <td>9</td>\n",
       "      <td>12</td>\n",
       "      <td>NaN</td>\n",
       "      <td>NaN</td>\n",
       "    </tr>\n",
       "    <tr>\n",
       "      <th>6</th>\n",
       "      <td>33</td>\n",
       "      <td>25</td>\n",
       "      <td>7</td>\n",
       "      <td>2</td>\n",
       "      <td>NaN</td>\n",
       "      <td>NaN</td>\n",
       "    </tr>\n",
       "    <tr>\n",
       "      <th>7</th>\n",
       "      <td>5</td>\n",
       "      <td>27</td>\n",
       "      <td>15</td>\n",
       "      <td>14</td>\n",
       "      <td>NaN</td>\n",
       "      <td>NaN</td>\n",
       "    </tr>\n",
       "    <tr>\n",
       "      <th>8</th>\n",
       "      <td>5</td>\n",
       "      <td>10</td>\n",
       "      <td>7</td>\n",
       "      <td>11</td>\n",
       "      <td>NaN</td>\n",
       "      <td>NaN</td>\n",
       "    </tr>\n",
       "    <tr>\n",
       "      <th>9</th>\n",
       "      <td>11</td>\n",
       "      <td>0</td>\n",
       "      <td>9</td>\n",
       "      <td>15</td>\n",
       "      <td>NaN</td>\n",
       "      <td>NaN</td>\n",
       "    </tr>\n",
       "    <tr>\n",
       "      <th>10</th>\n",
       "      <td>2</td>\n",
       "      <td>15</td>\n",
       "      <td>12</td>\n",
       "      <td>7</td>\n",
       "      <td>NaN</td>\n",
       "      <td>NaN</td>\n",
       "    </tr>\n",
       "  </tbody>\n",
       "</table>\n",
       "</div>"
      ],
      "text/plain": [
       "        X_coord  Y_coord  Required_Cars  Cars_Present  Fixed_Cost  \\\n",
       "Agency                                                              \n",
       "1             0        0             10             8         0.5   \n",
       "2            20       20              6            13         NaN   \n",
       "3            18       10              8             4         NaN   \n",
       "4            30       12             11             8         NaN   \n",
       "5            35        0              9            12         NaN   \n",
       "6            33       25              7             2         NaN   \n",
       "7             5       27             15            14         NaN   \n",
       "8             5       10              7            11         NaN   \n",
       "9            11        0              9            15         NaN   \n",
       "10            2       15             12             7         NaN   \n",
       "\n",
       "        Distance_Factor  \n",
       "Agency                   \n",
       "1                   1.3  \n",
       "2                   NaN  \n",
       "3                   NaN  \n",
       "4                   NaN  \n",
       "5                   NaN  \n",
       "6                   NaN  \n",
       "7                   NaN  \n",
       "8                   NaN  \n",
       "9                   NaN  \n",
       "10                  NaN  "
      ]
     },
     "execution_count": 2,
     "metadata": {},
     "output_type": "execute_result"
    }
   ],
   "source": [
    "# Carga de datos\n",
    "data = pd.read_excel(\"./data/car_rental.xlsx\", index_col=0)\n",
    "data"
   ]
  },
  {
   "cell_type": "code",
   "execution_count": 3,
   "id": "ae7ee9f4",
   "metadata": {
    "ExecuteTime": {
     "end_time": "2024-01-31T18:55:22.000909Z",
     "start_time": "2024-01-31T18:55:21.994891Z"
    }
   },
   "outputs": [],
   "source": [
    "def matrixDistance(data, x_coord, y_coord, factor=1):\n",
    "    \"\"\"\n",
    "    Function that computes the Euclidean distance between two agencies.\n",
    "    Args:\n",
    "        data: Dataset containing the coordinates of the agencies.\n",
    "        x_coord: Column of coordinates along the x-axis.\n",
    "        y_coord: Column of coordinates along the y-axis.\n",
    "        factor: Scaling factor for estimating the Euclidean distance and the actual distance.\n",
    "    Return:\n",
    "        data_dist: Dataset containing the distance between agencies.\n",
    "    \"\"\"\n",
    "    data = data.copy()\n",
    "    data_dist = pd.DataFrame()\n",
    "    agencies = data.index\n",
    "    for agency1 in agencies:\n",
    "        for agency2 in agencies:\n",
    "            x1 = data.loc[agency1, x_coord]\n",
    "            y1 = data.loc[agency1, y_coord]\n",
    "            x2 = data.loc[agency2, x_coord]\n",
    "            y2 = data.loc[agency2, y_coord]\n",
    "            xi = (x2 - x1) ** 2\n",
    "            yi = (y2 - y1) ** 2\n",
    "            dist = factor*(np.sqrt(xi + yi))\n",
    "            data_dist.loc[agency1, agency2] = dist\n",
    "    return data_dist"
   ]
  },
  {
   "cell_type": "code",
   "execution_count": 4,
   "id": "44b7a8b5",
   "metadata": {
    "ExecuteTime": {
     "end_time": "2024-01-31T18:55:24.107841Z",
     "start_time": "2024-01-31T18:55:24.093850Z"
    }
   },
   "outputs": [],
   "source": [
    "# Agencies with more cars present than required cars\n",
    "A = data[data[\"Required_Cars\"] <= data[\"Cars_Present\"]].index\n",
    "\n",
    "# Agencies with more required cars than cars present\n",
    "B = data[data[\"Cars_Present\"] < data[\"Required_Cars\"]].index \n",
    "\n",
    "# Required cars\n",
    "r = data[\"Required_Cars\"]\n",
    "\n",
    "# Cars present\n",
    "p = data[\"Cars_Present\"]\n",
    "\n",
    "# Fixed transportation cost per car per kilometer\n",
    "c = data.loc[1, \"Fixed_Cost\"]\n",
    "\n",
    "# Estimation factor for Euclidean Distance\n",
    "f = data.loc[1, \"Distance_Factor\"] \n",
    "\n",
    "# Euclidean distance between agencies\n",
    "d = matrixDistance(data, \"X_coord\", \"Y_coord\", factor=f) "
   ]
  },
  {
   "cell_type": "code",
   "execution_count": 5,
   "id": "561b8fa9",
   "metadata": {
    "ExecuteTime": {
     "end_time": "2024-01-31T18:55:24.535878Z",
     "start_time": "2024-01-31T18:55:24.518873Z"
    }
   },
   "outputs": [
    {
     "data": {
      "text/html": [
       "<div>\n",
       "<style scoped>\n",
       "    .dataframe tbody tr th:only-of-type {\n",
       "        vertical-align: middle;\n",
       "    }\n",
       "\n",
       "    .dataframe tbody tr th {\n",
       "        vertical-align: top;\n",
       "    }\n",
       "\n",
       "    .dataframe thead th {\n",
       "        text-align: right;\n",
       "    }\n",
       "</style>\n",
       "<table border=\"1\" class=\"dataframe\">\n",
       "  <thead>\n",
       "    <tr style=\"text-align: right;\">\n",
       "      <th></th>\n",
       "      <th>1</th>\n",
       "      <th>2</th>\n",
       "      <th>3</th>\n",
       "      <th>4</th>\n",
       "      <th>5</th>\n",
       "      <th>6</th>\n",
       "      <th>7</th>\n",
       "      <th>8</th>\n",
       "      <th>9</th>\n",
       "      <th>10</th>\n",
       "    </tr>\n",
       "  </thead>\n",
       "  <tbody>\n",
       "    <tr>\n",
       "      <th>1</th>\n",
       "      <td>0.000000</td>\n",
       "      <td>36.769553</td>\n",
       "      <td>26.768638</td>\n",
       "      <td>42.004285</td>\n",
       "      <td>45.500000</td>\n",
       "      <td>53.820628</td>\n",
       "      <td>35.696779</td>\n",
       "      <td>14.534442</td>\n",
       "      <td>14.300000</td>\n",
       "      <td>19.672570</td>\n",
       "    </tr>\n",
       "    <tr>\n",
       "      <th>2</th>\n",
       "      <td>36.769553</td>\n",
       "      <td>0.000000</td>\n",
       "      <td>13.257451</td>\n",
       "      <td>16.648123</td>\n",
       "      <td>32.500000</td>\n",
       "      <td>18.106905</td>\n",
       "      <td>21.518829</td>\n",
       "      <td>23.436083</td>\n",
       "      <td>28.511226</td>\n",
       "      <td>24.286004</td>\n",
       "    </tr>\n",
       "    <tr>\n",
       "      <th>3</th>\n",
       "      <td>26.768638</td>\n",
       "      <td>13.257451</td>\n",
       "      <td>0.000000</td>\n",
       "      <td>15.815183</td>\n",
       "      <td>25.640008</td>\n",
       "      <td>27.577164</td>\n",
       "      <td>27.821215</td>\n",
       "      <td>16.900000</td>\n",
       "      <td>15.868522</td>\n",
       "      <td>21.791971</td>\n",
       "    </tr>\n",
       "    <tr>\n",
       "      <th>4</th>\n",
       "      <td>42.004285</td>\n",
       "      <td>16.648123</td>\n",
       "      <td>15.815183</td>\n",
       "      <td>0.000000</td>\n",
       "      <td>16.900000</td>\n",
       "      <td>17.344163</td>\n",
       "      <td>37.901187</td>\n",
       "      <td>32.603834</td>\n",
       "      <td>29.213867</td>\n",
       "      <td>36.608332</td>\n",
       "    </tr>\n",
       "    <tr>\n",
       "      <th>5</th>\n",
       "      <td>45.500000</td>\n",
       "      <td>32.500000</td>\n",
       "      <td>25.640008</td>\n",
       "      <td>16.900000</td>\n",
       "      <td>0.000000</td>\n",
       "      <td>32.603834</td>\n",
       "      <td>52.469134</td>\n",
       "      <td>41.109610</td>\n",
       "      <td>31.200000</td>\n",
       "      <td>47.123879</td>\n",
       "    </tr>\n",
       "    <tr>\n",
       "      <th>6</th>\n",
       "      <td>53.820628</td>\n",
       "      <td>18.106905</td>\n",
       "      <td>27.577164</td>\n",
       "      <td>17.344163</td>\n",
       "      <td>32.603834</td>\n",
       "      <td>0.000000</td>\n",
       "      <td>36.492739</td>\n",
       "      <td>41.294188</td>\n",
       "      <td>43.292147</td>\n",
       "      <td>42.344893</td>\n",
       "    </tr>\n",
       "    <tr>\n",
       "      <th>7</th>\n",
       "      <td>35.696779</td>\n",
       "      <td>21.518829</td>\n",
       "      <td>27.821215</td>\n",
       "      <td>37.901187</td>\n",
       "      <td>52.469134</td>\n",
       "      <td>36.492739</td>\n",
       "      <td>0.000000</td>\n",
       "      <td>22.100000</td>\n",
       "      <td>35.956223</td>\n",
       "      <td>16.080112</td>\n",
       "    </tr>\n",
       "    <tr>\n",
       "      <th>8</th>\n",
       "      <td>14.534442</td>\n",
       "      <td>23.436083</td>\n",
       "      <td>16.900000</td>\n",
       "      <td>32.603834</td>\n",
       "      <td>41.109610</td>\n",
       "      <td>41.294188</td>\n",
       "      <td>22.100000</td>\n",
       "      <td>0.000000</td>\n",
       "      <td>15.160475</td>\n",
       "      <td>7.580237</td>\n",
       "    </tr>\n",
       "    <tr>\n",
       "      <th>9</th>\n",
       "      <td>14.300000</td>\n",
       "      <td>28.511226</td>\n",
       "      <td>15.868522</td>\n",
       "      <td>29.213867</td>\n",
       "      <td>31.200000</td>\n",
       "      <td>43.292147</td>\n",
       "      <td>35.956223</td>\n",
       "      <td>15.160475</td>\n",
       "      <td>0.000000</td>\n",
       "      <td>22.740712</td>\n",
       "    </tr>\n",
       "    <tr>\n",
       "      <th>10</th>\n",
       "      <td>19.672570</td>\n",
       "      <td>24.286004</td>\n",
       "      <td>21.791971</td>\n",
       "      <td>36.608332</td>\n",
       "      <td>47.123879</td>\n",
       "      <td>42.344893</td>\n",
       "      <td>16.080112</td>\n",
       "      <td>7.580237</td>\n",
       "      <td>22.740712</td>\n",
       "      <td>0.000000</td>\n",
       "    </tr>\n",
       "  </tbody>\n",
       "</table>\n",
       "</div>"
      ],
      "text/plain": [
       "           1          2          3          4          5          6   \\\n",
       "1    0.000000  36.769553  26.768638  42.004285  45.500000  53.820628   \n",
       "2   36.769553   0.000000  13.257451  16.648123  32.500000  18.106905   \n",
       "3   26.768638  13.257451   0.000000  15.815183  25.640008  27.577164   \n",
       "4   42.004285  16.648123  15.815183   0.000000  16.900000  17.344163   \n",
       "5   45.500000  32.500000  25.640008  16.900000   0.000000  32.603834   \n",
       "6   53.820628  18.106905  27.577164  17.344163  32.603834   0.000000   \n",
       "7   35.696779  21.518829  27.821215  37.901187  52.469134  36.492739   \n",
       "8   14.534442  23.436083  16.900000  32.603834  41.109610  41.294188   \n",
       "9   14.300000  28.511226  15.868522  29.213867  31.200000  43.292147   \n",
       "10  19.672570  24.286004  21.791971  36.608332  47.123879  42.344893   \n",
       "\n",
       "           7          8          9          10  \n",
       "1   35.696779  14.534442  14.300000  19.672570  \n",
       "2   21.518829  23.436083  28.511226  24.286004  \n",
       "3   27.821215  16.900000  15.868522  21.791971  \n",
       "4   37.901187  32.603834  29.213867  36.608332  \n",
       "5   52.469134  41.109610  31.200000  47.123879  \n",
       "6   36.492739  41.294188  43.292147  42.344893  \n",
       "7    0.000000  22.100000  35.956223  16.080112  \n",
       "8   22.100000   0.000000  15.160475   7.580237  \n",
       "9   35.956223  15.160475   0.000000  22.740712  \n",
       "10  16.080112   7.580237  22.740712   0.000000  "
      ]
     },
     "execution_count": 5,
     "metadata": {},
     "output_type": "execute_result"
    }
   ],
   "source": [
    "d"
   ]
  },
  {
   "cell_type": "code",
   "execution_count": 7,
   "id": "46f8f1d9",
   "metadata": {
    "ExecuteTime": {
     "end_time": "2024-01-31T18:55:24.917835Z",
     "start_time": "2024-01-31T18:55:24.912843Z"
    }
   },
   "outputs": [
    {
     "data": {
      "text/plain": [
       "Index([2, 5, 8, 9], dtype='int64', name='Agency')"
      ]
     },
     "execution_count": 7,
     "metadata": {},
     "output_type": "execute_result"
    }
   ],
   "source": [
    "A"
   ]
  },
  {
   "cell_type": "code",
   "execution_count": 8,
   "id": "68a1bb4b",
   "metadata": {
    "ExecuteTime": {
     "end_time": "2024-01-31T18:55:25.293232Z",
     "start_time": "2024-01-31T18:55:25.288240Z"
    }
   },
   "outputs": [
    {
     "data": {
      "text/plain": [
       "Index([1, 3, 4, 6, 7, 10], dtype='int64', name='Agency')"
      ]
     },
     "execution_count": 8,
     "metadata": {},
     "output_type": "execute_result"
    }
   ],
   "source": [
    "B"
   ]
  },
  {
   "cell_type": "code",
   "execution_count": 9,
   "id": "886fba6c",
   "metadata": {},
   "outputs": [
    {
     "data": {
      "image/png": "[encoded data removed]",
      "text/plain": [
       "<Figure size 1000x600 with 1 Axes>"
      ]
     },
     "metadata": {},
     "output_type": "display_data"
    }
   ],
   "source": [
    "# Calculate deficit/surplus\n",
    "deficit_surplus = [s - req for s, req in zip(p, r)]\n",
    "xticks = np.arange(data.index[0], data.index[-1] + 1)\n",
    "\n",
    "# Plot\n",
    "plt.figure(figsize=(10, 6))\n",
    "bars = plt.bar(data.index, deficit_surplus, color=np.where(np.array(deficit_surplus) >= 0, 'green', 'red'))\n",
    "\n",
    "# Add labels and title\n",
    "plt.xlabel(\"Agency\")\n",
    "plt.ylabel(\"Deficit/Surplus of Cars\")\n",
    "plt.title(\"Deficit/Surplus of Cars at Each Agency\")\n",
    "plt.axhline(0, color='black', linewidth=0.8)  # Add a horizontal line at y=0\n",
    "plt.xticks(xticks)\n",
    "\n",
    "# Annotate bars with their values\n",
    "for bar in bars:\n",
    "    height = bar.get_height()\n",
    "    plt.text(bar.get_x() + bar.get_width() / 2, height, \n",
    "             f'{height:.0f}', ha='center', va='bottom' if height >= 0 else 'top')\n",
    "\n",
    "plt.grid(True, axis='y', linestyle='--', alpha=0.7)\n",
    "plt.show()"
   ]
  },
  {
   "cell_type": "code",
   "execution_count": 10,
   "id": "c6817121",
   "metadata": {
    "ExecuteTime": {
     "end_time": "2024-01-31T18:55:37.072401Z",
     "start_time": "2024-01-31T18:55:37.024350Z"
    }
   },
   "outputs": [],
   "source": [
    "model = pyo.ConcreteModel(\"Car rental\")\n",
    "model.x = pyo.Var(A, B, domain=pyo.NonNegativeIntegers, doc=\"Quantity of cars to go from agency a to agency b\")\n",
    "\n",
    "model.objective = pyo.Objective(expr=c*sum(d.loc[a,b]*model.x[a,b] for a in A for b in B), sense=pyo.minimize,\n",
    "                                doc=\"Minimize the total cost of transportin cars\")\n",
    "\n",
    "model.constraint_excess = pyo.ConstraintList(doc=\"Every agency with an excess number of cars needs to get rid of these.\")\n",
    "for a in A:\n",
    "    model.constraint_excess.add(expr=sum(model.x[a,b] for b in B) == p[a] - r[a])\n",
    "\n",
    "model.constraint_need = pyo.ConstraintList(doc=\"Every agency in need of car has to complete its fleet by receiving the missing number.\")\n",
    "for b in B:\n",
    "    model.constraint_need.add(expr=sum(model.x[a,b] for a in A) == r[b] - p[b])\n",
    "\n",
    "solver = pyo.SolverFactory(\"glpk\")\n",
    "results = solver.solve(model)"
   ]
  },
  {
   "cell_type": "code",
   "execution_count": 11,
   "id": "88752d4f",
   "metadata": {
    "ExecuteTime": {
     "end_time": "2024-01-31T18:55:37.392166Z",
     "start_time": "2024-01-31T18:55:37.387897Z"
    }
   },
   "outputs": [
    {
     "data": {
      "text/plain": [
       "{'Problem': [{'Name': 'unknown', 'Lower bound': 152.639016322956, 'Upper bound': 152.639016322956, 'Number of objectives': 1, 'Number of constraints': 10, 'Number of variables': 24, 'Number of nonzeros': 48, 'Sense': 'minimize'}], 'Solver': [{'Status': 'ok', 'Termination condition': 'optimal', 'Statistics': {'Branch and bound': {'Number of bounded subproblems': '1', 'Number of created subproblems': '1'}}, 'Error rc': 0, 'Time': 0.006581783294677734}], 'Solution': [OrderedDict({'number of solutions': 0, 'number of solutions displayed': 0})]}"
      ]
     },
     "execution_count": 11,
     "metadata": {},
     "output_type": "execute_result"
    }
   ],
   "source": [
    "results"
   ]
  },
  {
   "cell_type": "code",
   "execution_count": 12,
   "id": "ea519593",
   "metadata": {
    "ExecuteTime": {
     "end_time": "2024-01-31T18:55:37.806735Z",
     "start_time": "2024-01-31T18:55:37.796732Z"
    },
    "scrolled": false
   },
   "outputs": [
    {
     "name": "stdout",
     "output_type": "stream",
     "text": [
      "1 Var Declarations\n",
      "    x : Quantity of cars to go from agency a to agency b\n",
      "        Size=24, Index={8, 9, 2, 5}*{1, 3, 4, 6, 7, 10}\n",
      "        Key     : Lower : Value : Upper : Fixed : Stale : Domain\n",
      "         (2, 1) :     0 :   0.0 :  None : False : False : NonNegativeIntegers\n",
      "         (2, 3) :     0 :   1.0 :  None : False : False : NonNegativeIntegers\n",
      "         (2, 4) :     0 :   0.0 :  None : False : False : NonNegativeIntegers\n",
      "         (2, 6) :     0 :   5.0 :  None : False : False : NonNegativeIntegers\n",
      "         (2, 7) :     0 :   1.0 :  None : False : False : NonNegativeIntegers\n",
      "        (2, 10) :     0 :   0.0 :  None : False : False : NonNegativeIntegers\n",
      "         (5, 1) :     0 :   0.0 :  None : False : False : NonNegativeIntegers\n",
      "         (5, 3) :     0 :   0.0 :  None : False : False : NonNegativeIntegers\n",
      "         (5, 4) :     0 :   3.0 :  None : False : False : NonNegativeIntegers\n",
      "         (5, 6) :     0 :   0.0 :  None : False : False : NonNegativeIntegers\n",
      "         (5, 7) :     0 :   0.0 :  None : False : False : NonNegativeIntegers\n",
      "        (5, 10) :     0 :   0.0 :  None : False : False : NonNegativeIntegers\n",
      "         (8, 1) :     0 :   0.0 :  None : False : False : NonNegativeIntegers\n",
      "         (8, 3) :     0 :   0.0 :  None : False : False : NonNegativeIntegers\n",
      "         (8, 4) :     0 :   0.0 :  None : False : False : NonNegativeIntegers\n",
      "         (8, 6) :     0 :   0.0 :  None : False : False : NonNegativeIntegers\n",
      "         (8, 7) :     0 :   0.0 :  None : False : False : NonNegativeIntegers\n",
      "        (8, 10) :     0 :   4.0 :  None : False : False : NonNegativeIntegers\n",
      "         (9, 1) :     0 :   2.0 :  None : False : False : NonNegativeIntegers\n",
      "         (9, 3) :     0 :   3.0 :  None : False : False : NonNegativeIntegers\n",
      "         (9, 4) :     0 :   0.0 :  None : False : False : NonNegativeIntegers\n",
      "         (9, 6) :     0 :   0.0 :  None : False : False : NonNegativeIntegers\n",
      "         (9, 7) :     0 :   0.0 :  None : False : False : NonNegativeIntegers\n",
      "        (9, 10) :     0 :   1.0 :  None : False : False : NonNegativeIntegers\n",
      "\n",
      "1 Objective Declarations\n",
      "    objective : Minimize the total cost of transportin cars\n",
      "        Size=1, Index=None, Active=True\n",
      "        Key  : Active : Sense    : Expression\n",
      "        None :   True : minimize : 0.5*(36.76955262170048*x[2,1] + 13.25745073534124*x[2,3] + 16.648123017325407*x[2,4] + 18.106904760339354*x[2,6] + 21.518828964420905*x[2,7] + 24.286004199950227*x[2,10] + 45.5*x[5,1] + 25.640007800310826*x[5,3] + 16.900000000000002*x[5,4] + 32.60383413035958*x[5,6] + 52.46913378358747*x[5,7] + 47.12387929701883*x[5,10] + 14.534441853748634*x[8,1] + 16.900000000000002*x[8,3] + 32.60383413035958*x[8,4] + 41.294188453098336*x[8,6] + 22.1*x[8,7] + 7.580237463298891*x[8,10] + 14.3*x[9,1] + 15.868522300453813*x[9,3] + 29.213866570517503*x[9,4] + 43.292147093901455*x[9,6] + 35.956223383442264*x[9,7] + 22.74071238989667*x[9,10])\n",
      "\n",
      "2 Constraint Declarations\n",
      "    constraint_excess : Every agency with an excess number of cars needs to get rid of these.\n",
      "        Size=4, Index={1, 2, 3, 4}, Active=True\n",
      "        Key : Lower : Body                                                 : Upper : Active\n",
      "          1 :   7.0 : x[2,1] + x[2,3] + x[2,4] + x[2,6] + x[2,7] + x[2,10] :   7.0 :   True\n",
      "          2 :   3.0 : x[5,1] + x[5,3] + x[5,4] + x[5,6] + x[5,7] + x[5,10] :   3.0 :   True\n",
      "          3 :   4.0 : x[8,1] + x[8,3] + x[8,4] + x[8,6] + x[8,7] + x[8,10] :   4.0 :   True\n",
      "          4 :   6.0 : x[9,1] + x[9,3] + x[9,4] + x[9,6] + x[9,7] + x[9,10] :   6.0 :   True\n",
      "    constraint_need : Every agency in need of car has to complete its fleet by receiving the missing number.\n",
      "        Size=6, Index={1, 2, 3, 4, 5, 6}, Active=True\n",
      "        Key : Lower : Body                                  : Upper : Active\n",
      "          1 :   2.0 :     x[2,1] + x[5,1] + x[8,1] + x[9,1] :   2.0 :   True\n",
      "          2 :   4.0 :     x[2,3] + x[5,3] + x[8,3] + x[9,3] :   4.0 :   True\n",
      "          3 :   3.0 :     x[2,4] + x[5,4] + x[8,4] + x[9,4] :   3.0 :   True\n",
      "          4 :   5.0 :     x[2,6] + x[5,6] + x[8,6] + x[9,6] :   5.0 :   True\n",
      "          5 :   1.0 :     x[2,7] + x[5,7] + x[8,7] + x[9,7] :   1.0 :   True\n",
      "          6 :   5.0 : x[2,10] + x[5,10] + x[8,10] + x[9,10] :   5.0 :   True\n",
      "\n",
      "4 Declarations: x objective constraint_excess constraint_need\n"
     ]
    }
   ],
   "source": [
    "model.pprint()"
   ]
  },
  {
   "cell_type": "code",
   "execution_count": 13,
   "id": "fc029c3a",
   "metadata": {
    "ExecuteTime": {
     "end_time": "2024-01-31T18:59:54.060800Z",
     "start_time": "2024-01-31T18:59:54.055801Z"
    }
   },
   "outputs": [
    {
     "name": "stdout",
     "output_type": "stream",
     "text": [
      "Agency 2 sends to agency 3: 1 cars\n",
      "Agency 2 sends to agency 6: 5 cars\n",
      "Agency 2 sends to agency 7: 1 cars\n",
      "Agency 5 sends to agency 4: 3 cars\n",
      "Agency 8 sends to agency 10: 4 cars\n",
      "Agency 9 sends to agency 1: 2 cars\n",
      "Agency 9 sends to agency 3: 3 cars\n",
      "Agency 9 sends to agency 10: 1 cars\n"
     ]
    }
   ],
   "source": [
    "for a in A:\n",
    "    for b in B:\n",
    "        if pyo.value(model.x[a,b]) != 0:\n",
    "            cars = int(pyo.value(model.x[a,b]))\n",
    "            print(f\"Agency {a} sends to agency {b}: {cars} cars\")"
   ]
  },
  {
   "cell_type": "code",
   "execution_count": 14,
   "id": "f38b5474",
   "metadata": {},
   "outputs": [
    {
     "data": {
      "image/png": "[encoded data removed]",
      "text/plain": [
       "<Figure size 1200x800 with 1 Axes>"
      ]
     },
     "metadata": {},
     "output_type": "display_data"
    }
   ],
   "source": [
    "# Let's plot the solution as a network\n",
    "import networkx as nx\n",
    "\n",
    "# Create a directed graph\n",
    "G = nx.DiGraph()\n",
    "\n",
    "solution = model.x.get_values()\n",
    "\n",
    "for (source, destination), cars in solution.items():\n",
    "    if solution[source, destination] != 0:\n",
    "        G.add_edge(source, destination, weight=cars)\n",
    "\n",
    "# Positioning the nodes\n",
    "pos = nx.spring_layout(G)\n",
    "edge_labels = nx.get_edge_attributes(G, \"weight\")\n",
    "\n",
    "plt.figure(figsize=(12, 8))\n",
    "nx.draw(G, pos, with_labels=True, arrows=True)\n",
    "nx.draw_networkx_edge_labels(G, pos, edge_labels=edge_labels)\n",
    "\n",
    "plt.title(\"Transportation network\")\n",
    "plt.show()"
   ]
  },
  {
   "cell_type": "code",
   "execution_count": 15,
   "id": "b0f06ca1",
   "metadata": {
    "ExecuteTime": {
     "end_time": "2024-01-31T18:58:21.395418Z",
     "start_time": "2024-01-31T18:58:21.391420Z"
    }
   },
   "outputs": [
    {
     "name": "stdout",
     "output_type": "stream",
     "text": [
      "Minimum cost flow: $152.6390163229563\n"
     ]
    }
   ],
   "source": [
    "# Costo total\n",
    "print(f\"Minimum cost flow: ${pyo.value(model.objective)}\")"
   ]
  },
  {
   "cell_type": "code",
   "execution_count": null,
   "id": "b3846a80",
   "metadata": {},
   "outputs": [],
   "source": []
  }
 ],
 "metadata": {
  "hide_input": false,
  "kernelspec": {
   "display_name": "base",
   "language": "python",
   "name": "python3"
  },
  "language_info": {
   "codemirror_mode": {
    "name": "ipython",
    "version": 3
   },
   "file_extension": ".py",
   "mimetype": "text/x-python",
   "name": "python",
   "nbconvert_exporter": "python",
   "pygments_lexer": "ipython3",
   "version": "3.12.2"
  },
  "toc": {
   "base_numbering": 1,
   "nav_menu": {},
   "number_sections": true,
   "sideBar": true,
   "skip_h1_title": false,
   "title_cell": "Table of Contents",
   "title_sidebar": "Contents",
   "toc_cell": false,
   "toc_position": {},
   "toc_section_display": true,
   "toc_window_display": false
  },
  "varInspector": {
   "cols": {
    "lenName": 16,
    "lenType": 16,
    "lenVar": 40
   },
   "kernels_config": {
    "python": {
     "delete_cmd_postfix": "",
     "delete_cmd_prefix": "del ",
     "library": "var_list.py",
     "varRefreshCmd": "print(var_dic_list())"
    },
    "r": {
     "delete_cmd_postfix": ") ",
     "delete_cmd_prefix": "rm(",
     "library": "var_list.r",
     "varRefreshCmd": "cat(var_dic_list()) "
    }
   },
   "types_to_exclude": [
    "module",
    "function",
    "builtin_function_or_method",
    "instance",
    "_Feature"
   ],
   "window_display": false
  }
 },
 "nbformat": 4,
 "nbformat_minor": 5
}
